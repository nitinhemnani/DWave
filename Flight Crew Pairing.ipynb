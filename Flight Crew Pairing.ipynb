{
 "cells": [
  {
   "cell_type": "markdown",
   "id": "347510f9",
   "metadata": {},
   "source": [
    "## Flight crew scheduling demo using CVXPY, DWave BQM solver, CQM solver and QAOA using Qiskit\n",
    "\n",
    "Budget Airways is required to assign its crews based in New York to cover all the upcoming scheduled flights. There are many possible sequences of flights that are feasible for a crew to choose from, assuming one crew can only be assigned to one sequence. There are 10 flights and 8 feasible sequences of flights and associated costs given. The problem is to find crew assignment that covers all 10 flights at a minimal total cost."
   ]
  },
  {
   "cell_type": "code",
   "execution_count": 2,
   "id": "75e0b5c5",
   "metadata": {},
   "outputs": [],
   "source": [
    "# pip install cvxopt"
   ]
  },
  {
   "cell_type": "code",
   "execution_count": 1,
   "id": "b6921c36",
   "metadata": {},
   "outputs": [],
   "source": [
    "import numpy as np"
   ]
  },
  {
   "cell_type": "code",
   "execution_count": 3,
   "id": "bd3561c8",
   "metadata": {
    "scrolled": true
   },
   "outputs": [
    {
     "data": {
      "text/html": [
       "<div>\n",
       "<style scoped>\n",
       "    .dataframe tbody tr th:only-of-type {\n",
       "        vertical-align: middle;\n",
       "    }\n",
       "\n",
       "    .dataframe tbody tr th {\n",
       "        vertical-align: top;\n",
       "    }\n",
       "\n",
       "    .dataframe thead th {\n",
       "        text-align: right;\n",
       "    }\n",
       "</style>\n",
       "<table border=\"1\" class=\"dataframe\">\n",
       "  <thead>\n",
       "    <tr style=\"text-align: right;\">\n",
       "      <th></th>\n",
       "      <th>1</th>\n",
       "      <th>2</th>\n",
       "      <th>3</th>\n",
       "      <th>4</th>\n",
       "      <th>5</th>\n",
       "      <th>6</th>\n",
       "      <th>7</th>\n",
       "      <th>8</th>\n",
       "    </tr>\n",
       "    <tr>\n",
       "      <th>Requirement (Flight)</th>\n",
       "      <th></th>\n",
       "      <th></th>\n",
       "      <th></th>\n",
       "      <th></th>\n",
       "      <th></th>\n",
       "      <th></th>\n",
       "      <th></th>\n",
       "      <th></th>\n",
       "    </tr>\n",
       "  </thead>\n",
       "  <tbody>\n",
       "    <tr>\n",
       "      <th>New York to Buffalo</th>\n",
       "      <td>1</td>\n",
       "      <td>0</td>\n",
       "      <td>0</td>\n",
       "      <td>1</td>\n",
       "      <td>0</td>\n",
       "      <td>0</td>\n",
       "      <td>1</td>\n",
       "      <td>0</td>\n",
       "    </tr>\n",
       "    <tr>\n",
       "      <th>New York to Cincinnati</th>\n",
       "      <td>0</td>\n",
       "      <td>1</td>\n",
       "      <td>0</td>\n",
       "      <td>0</td>\n",
       "      <td>1</td>\n",
       "      <td>0</td>\n",
       "      <td>0</td>\n",
       "      <td>0</td>\n",
       "    </tr>\n",
       "    <tr>\n",
       "      <th>New York to Chicago</th>\n",
       "      <td>0</td>\n",
       "      <td>0</td>\n",
       "      <td>1</td>\n",
       "      <td>0</td>\n",
       "      <td>0</td>\n",
       "      <td>1</td>\n",
       "      <td>0</td>\n",
       "      <td>1</td>\n",
       "    </tr>\n",
       "    <tr>\n",
       "      <th>Buffalo to Chicago</th>\n",
       "      <td>2</td>\n",
       "      <td>0</td>\n",
       "      <td>0</td>\n",
       "      <td>2</td>\n",
       "      <td>0</td>\n",
       "      <td>0</td>\n",
       "      <td>0</td>\n",
       "      <td>0</td>\n",
       "    </tr>\n",
       "    <tr>\n",
       "      <th>Chicago to Cincinnati</th>\n",
       "      <td>0</td>\n",
       "      <td>0</td>\n",
       "      <td>2</td>\n",
       "      <td>3</td>\n",
       "      <td>0</td>\n",
       "      <td>2</td>\n",
       "      <td>0</td>\n",
       "      <td>0</td>\n",
       "    </tr>\n",
       "    <tr>\n",
       "      <th>Cincinnati to Pittsburgh</th>\n",
       "      <td>0</td>\n",
       "      <td>2</td>\n",
       "      <td>0</td>\n",
       "      <td>4</td>\n",
       "      <td>0</td>\n",
       "      <td>3</td>\n",
       "      <td>0</td>\n",
       "      <td>0</td>\n",
       "    </tr>\n",
       "    <tr>\n",
       "      <th>Cincinnati to Buffalo</th>\n",
       "      <td>0</td>\n",
       "      <td>0</td>\n",
       "      <td>3</td>\n",
       "      <td>0</td>\n",
       "      <td>2</td>\n",
       "      <td>0</td>\n",
       "      <td>0</td>\n",
       "      <td>0</td>\n",
       "    </tr>\n",
       "    <tr>\n",
       "      <th>Buffalo to New York</th>\n",
       "      <td>0</td>\n",
       "      <td>0</td>\n",
       "      <td>4</td>\n",
       "      <td>0</td>\n",
       "      <td>3</td>\n",
       "      <td>0</td>\n",
       "      <td>2</td>\n",
       "      <td>0</td>\n",
       "    </tr>\n",
       "    <tr>\n",
       "      <th>Pittsburgh to New York</th>\n",
       "      <td>0</td>\n",
       "      <td>3</td>\n",
       "      <td>0</td>\n",
       "      <td>5</td>\n",
       "      <td>0</td>\n",
       "      <td>4</td>\n",
       "      <td>0</td>\n",
       "      <td>0</td>\n",
       "    </tr>\n",
       "    <tr>\n",
       "      <th>Chicago to New York</th>\n",
       "      <td>3</td>\n",
       "      <td>0</td>\n",
       "      <td>0</td>\n",
       "      <td>0</td>\n",
       "      <td>0</td>\n",
       "      <td>0</td>\n",
       "      <td>0</td>\n",
       "      <td>2</td>\n",
       "    </tr>\n",
       "    <tr>\n",
       "      <th>Cost ($1000) for each sequence</th>\n",
       "      <td>5</td>\n",
       "      <td>4</td>\n",
       "      <td>4</td>\n",
       "      <td>9</td>\n",
       "      <td>7</td>\n",
       "      <td>8</td>\n",
       "      <td>3</td>\n",
       "      <td>3</td>\n",
       "    </tr>\n",
       "    <tr>\n",
       "      <th>Hours</th>\n",
       "      <td>396</td>\n",
       "      <td>352</td>\n",
       "      <td>1022</td>\n",
       "      <td>847</td>\n",
       "      <td>687</td>\n",
       "      <td>531</td>\n",
       "      <td>236</td>\n",
       "      <td>179</td>\n",
       "    </tr>\n",
       "  </tbody>\n",
       "</table>\n",
       "</div>"
      ],
      "text/plain": [
       "                                  1    2     3    4    5    6    7    8\n",
       "Requirement (Flight)                                                   \n",
       "New York to Buffalo               1    0     0    1    0    0    1    0\n",
       "New York to Cincinnati            0    1     0    0    1    0    0    0\n",
       "New York to Chicago               0    0     1    0    0    1    0    1\n",
       "Buffalo to Chicago                2    0     0    2    0    0    0    0\n",
       "Chicago to Cincinnati             0    0     2    3    0    2    0    0\n",
       "Cincinnati to Pittsburgh          0    2     0    4    0    3    0    0\n",
       "Cincinnati to Buffalo             0    0     3    0    2    0    0    0\n",
       "Buffalo to New York               0    0     4    0    3    0    2    0\n",
       "Pittsburgh to New York            0    3     0    5    0    4    0    0\n",
       "Chicago to New York               3    0     0    0    0    0    0    2\n",
       "Cost ($1000) for each sequence    5    4     4    9    7    8    3    3\n",
       "Hours                           396  352  1022  847  687  531  236  179"
      ]
     },
     "execution_count": 3,
     "metadata": {},
     "output_type": "execute_result"
    }
   ],
   "source": [
    "import pandas as pd\n",
    "import cvxpy as cp\n",
    "\n",
    "df=pd.read_csv(\"flight_schedule.csv\", index_col = 0, header=1)\n",
    "df\n"
   ]
  },
  {
   "cell_type": "code",
   "execution_count": 4,
   "id": "44da4d25",
   "metadata": {},
   "outputs": [],
   "source": [
    "schedule = df.iloc[:-2]\n",
    "cost = df.iloc[-2]\n",
    "hours = df.iloc[-1]"
   ]
  },
  {
   "cell_type": "markdown",
   "id": "86b36658",
   "metadata": {},
   "source": [
    "To formulate this problem, we begin by forming a node-arc incidence matrix A, having \n",
    "an entry of \"1 \" if a sequence of flight covers a certain flight and \"0\" otherwise."
   ]
  },
  {
   "cell_type": "code",
   "execution_count": 5,
   "id": "ee605fe8",
   "metadata": {},
   "outputs": [
    {
     "data": {
      "text/html": [
       "<div>\n",
       "<style scoped>\n",
       "    .dataframe tbody tr th:only-of-type {\n",
       "        vertical-align: middle;\n",
       "    }\n",
       "\n",
       "    .dataframe tbody tr th {\n",
       "        vertical-align: top;\n",
       "    }\n",
       "\n",
       "    .dataframe thead th {\n",
       "        text-align: right;\n",
       "    }\n",
       "</style>\n",
       "<table border=\"1\" class=\"dataframe\">\n",
       "  <thead>\n",
       "    <tr style=\"text-align: right;\">\n",
       "      <th></th>\n",
       "      <th>1</th>\n",
       "      <th>2</th>\n",
       "      <th>3</th>\n",
       "      <th>4</th>\n",
       "      <th>5</th>\n",
       "      <th>6</th>\n",
       "      <th>7</th>\n",
       "      <th>8</th>\n",
       "    </tr>\n",
       "    <tr>\n",
       "      <th>Requirement (Flight)</th>\n",
       "      <th></th>\n",
       "      <th></th>\n",
       "      <th></th>\n",
       "      <th></th>\n",
       "      <th></th>\n",
       "      <th></th>\n",
       "      <th></th>\n",
       "      <th></th>\n",
       "    </tr>\n",
       "  </thead>\n",
       "  <tbody>\n",
       "    <tr>\n",
       "      <th>New York to Buffalo</th>\n",
       "      <td>1</td>\n",
       "      <td>0</td>\n",
       "      <td>0</td>\n",
       "      <td>1</td>\n",
       "      <td>0</td>\n",
       "      <td>0</td>\n",
       "      <td>1</td>\n",
       "      <td>0</td>\n",
       "    </tr>\n",
       "    <tr>\n",
       "      <th>New York to Cincinnati</th>\n",
       "      <td>0</td>\n",
       "      <td>1</td>\n",
       "      <td>0</td>\n",
       "      <td>0</td>\n",
       "      <td>1</td>\n",
       "      <td>0</td>\n",
       "      <td>0</td>\n",
       "      <td>0</td>\n",
       "    </tr>\n",
       "    <tr>\n",
       "      <th>New York to Chicago</th>\n",
       "      <td>0</td>\n",
       "      <td>0</td>\n",
       "      <td>1</td>\n",
       "      <td>0</td>\n",
       "      <td>0</td>\n",
       "      <td>1</td>\n",
       "      <td>0</td>\n",
       "      <td>1</td>\n",
       "    </tr>\n",
       "    <tr>\n",
       "      <th>Buffalo to Chicago</th>\n",
       "      <td>1</td>\n",
       "      <td>0</td>\n",
       "      <td>0</td>\n",
       "      <td>1</td>\n",
       "      <td>0</td>\n",
       "      <td>0</td>\n",
       "      <td>0</td>\n",
       "      <td>0</td>\n",
       "    </tr>\n",
       "    <tr>\n",
       "      <th>Chicago to Cincinnati</th>\n",
       "      <td>0</td>\n",
       "      <td>0</td>\n",
       "      <td>1</td>\n",
       "      <td>1</td>\n",
       "      <td>0</td>\n",
       "      <td>1</td>\n",
       "      <td>0</td>\n",
       "      <td>0</td>\n",
       "    </tr>\n",
       "    <tr>\n",
       "      <th>Cincinnati to Pittsburgh</th>\n",
       "      <td>0</td>\n",
       "      <td>1</td>\n",
       "      <td>0</td>\n",
       "      <td>1</td>\n",
       "      <td>0</td>\n",
       "      <td>1</td>\n",
       "      <td>0</td>\n",
       "      <td>0</td>\n",
       "    </tr>\n",
       "    <tr>\n",
       "      <th>Cincinnati to Buffalo</th>\n",
       "      <td>0</td>\n",
       "      <td>0</td>\n",
       "      <td>1</td>\n",
       "      <td>0</td>\n",
       "      <td>1</td>\n",
       "      <td>0</td>\n",
       "      <td>0</td>\n",
       "      <td>0</td>\n",
       "    </tr>\n",
       "    <tr>\n",
       "      <th>Buffalo to New York</th>\n",
       "      <td>0</td>\n",
       "      <td>0</td>\n",
       "      <td>1</td>\n",
       "      <td>0</td>\n",
       "      <td>1</td>\n",
       "      <td>0</td>\n",
       "      <td>1</td>\n",
       "      <td>0</td>\n",
       "    </tr>\n",
       "    <tr>\n",
       "      <th>Pittsburgh to New York</th>\n",
       "      <td>0</td>\n",
       "      <td>1</td>\n",
       "      <td>0</td>\n",
       "      <td>1</td>\n",
       "      <td>0</td>\n",
       "      <td>1</td>\n",
       "      <td>0</td>\n",
       "      <td>0</td>\n",
       "    </tr>\n",
       "    <tr>\n",
       "      <th>Chicago to New York</th>\n",
       "      <td>1</td>\n",
       "      <td>0</td>\n",
       "      <td>0</td>\n",
       "      <td>0</td>\n",
       "      <td>0</td>\n",
       "      <td>0</td>\n",
       "      <td>0</td>\n",
       "      <td>1</td>\n",
       "    </tr>\n",
       "  </tbody>\n",
       "</table>\n",
       "</div>"
      ],
      "text/plain": [
       "                          1  2  3  4  5  6  7  8\n",
       "Requirement (Flight)                            \n",
       "New York to Buffalo       1  0  0  1  0  0  1  0\n",
       "New York to Cincinnati    0  1  0  0  1  0  0  0\n",
       "New York to Chicago       0  0  1  0  0  1  0  1\n",
       "Buffalo to Chicago        1  0  0  1  0  0  0  0\n",
       "Chicago to Cincinnati     0  0  1  1  0  1  0  0\n",
       "Cincinnati to Pittsburgh  0  1  0  1  0  1  0  0\n",
       "Cincinnati to Buffalo     0  0  1  0  1  0  0  0\n",
       "Buffalo to New York       0  0  1  0  1  0  1  0\n",
       "Pittsburgh to New York    0  1  0  1  0  1  0  0\n",
       "Chicago to New York       1  0  0  0  0  0  0  1"
      ]
     },
     "execution_count": 5,
     "metadata": {},
     "output_type": "execute_result"
    }
   ],
   "source": [
    "schedule = schedule.applymap(lambda x: 1 if x >= 1 else x)\n",
    "schedule"
   ]
  },
  {
   "cell_type": "markdown",
   "id": "b69abbd7",
   "metadata": {},
   "source": [
    "Input parameters: \n",
    "* $a$: 0-1 matrix\n",
    "* $c_j$: cost for each feasible sequence of flight ($j=1, 2, ..,8$)\n",
    "* $b_i$: requirement vector ($i=1, 2, ..., 10$)"
   ]
  },
  {
   "cell_type": "code",
   "execution_count": 6,
   "id": "80b90d37",
   "metadata": {},
   "outputs": [],
   "source": [
    "a = schedule.values\n",
    "c = cost.values\n",
    "b = np.ones(len(a))"
   ]
  },
  {
   "cell_type": "markdown",
   "id": "ecc67804",
   "metadata": {},
   "source": [
    "Decision variable: \n",
    "\n",
    "$y_j=1$ or $0$: Whether the flight sequence $j$ is selected or not"
   ]
  },
  {
   "cell_type": "code",
   "execution_count": 7,
   "id": "445613f2",
   "metadata": {},
   "outputs": [],
   "source": [
    "y = cp.Variable(len(c), boolean=True)"
   ]
  },
  {
   "cell_type": "markdown",
   "id": "d0f99650",
   "metadata": {},
   "source": [
    "Objective: minimize the total cost of assigning crews to the selected sequence of flights\n",
    "\n",
    "$$\\min \\;\\; z=5y_1 + 4y_2 + 4y_3 + 9y_4 + 7y_5 + 8y_6 + 3y_7 + 3y_8$$"
   ]
  },
  {
   "cell_type": "code",
   "execution_count": 8,
   "id": "72a24546",
   "metadata": {},
   "outputs": [],
   "source": [
    "obj = cp.Minimize(c @ y)"
   ]
  },
  {
   "cell_type": "markdown",
   "id": "2c948914",
   "metadata": {},
   "source": [
    "Constraint: ensure that at least one crew is assigned to each flight.\n",
    "\n",
    "For example, to make sure that at least one crew is assigned to the first flight, we have constraint:\n",
    "$$y_1 + y_4 + y_7 \\geq 1$$\n",
    "\n",
    "Generalize this constraint for all 10 flights, we have:\n",
    "\n",
    "$$\n",
    "\\begin{pmatrix}\n",
    "  1  &  0  &  0  &  1  &  0  &  0  &  1  &  0 \\\\\n",
    "  0  &  1  &  0  &  0  &  1  &  0  &  0  &  0 \\\\\n",
    "  0  &  0  &  1  &  0  &  0  &  1  &  0  &  1 \\\\\n",
    "  1  &  0  &  0  &  1  &  0  &  0  &  0  &  0 \\\\\n",
    "  0  &  0  &  1  &  1  &  0  &  1  &  0  &  0 \\\\\n",
    "  0  &  1  &  0  &  1  &  0  &  1  &  0  &  0 \\\\\n",
    "  0  &  0  &  1  &  0  &  1  &  0  &  0  &  0 \\\\\n",
    "  0  &  0  &  1  &  0  &  1  &  0  &  1  &  0 \\\\\n",
    "  0  &  1  &  0  &  1  &  0  &  1  &  0  &  0 \\\\\n",
    "  1  &  0  &  0  &  0  &  0  &  0  &  0  &  1 \n",
    "\\end{pmatrix}\n",
    "\\begin{pmatrix}\n",
    "y_1\\\\\n",
    "y_2\\\\\n",
    "y_3\\\\\n",
    "y_4\\\\\n",
    "y_5\\\\\n",
    "y_6\\\\\n",
    "y_7\\\\\n",
    "y_8\\\\\n",
    "\\end{pmatrix} \\geq\n",
    "\\begin{pmatrix}\n",
    "1\\\\\n",
    "1\\\\\n",
    "1\\\\\n",
    "1\\\\\n",
    "1\\\\\n",
    "1\\\\\n",
    "1\\\\\n",
    "1\\\\\n",
    "\\end{pmatrix}\n",
    "$$\n",
    "\n",
    "$y_j=0$ or $1$ $j=1,2,...,8$"
   ]
  },
  {
   "cell_type": "code",
   "execution_count": 9,
   "id": "7550bb10",
   "metadata": {},
   "outputs": [],
   "source": [
    "constraints = [a @ y >= b]"
   ]
  },
  {
   "cell_type": "code",
   "execution_count": 10,
   "id": "e06198ba",
   "metadata": {},
   "outputs": [
    {
     "data": {
      "text/plain": [
       "13.0"
      ]
     },
     "execution_count": 10,
     "metadata": {},
     "output_type": "execute_result"
    }
   ],
   "source": [
    "import cvxopt\n",
    "prob = cp.Problem(obj, constraints)\n",
    "prob.solve()"
   ]
  },
  {
   "cell_type": "code",
   "execution_count": 11,
   "id": "55a48ee5",
   "metadata": {},
   "outputs": [
    {
     "name": "stdout",
     "output_type": "stream",
     "text": [
      "[1. 1. 1. 0. 0. 0. 0. 0.]\n"
     ]
    }
   ],
   "source": [
    "print (y.value)"
   ]
  },
  {
   "cell_type": "markdown",
   "id": "ba154b2f",
   "metadata": {},
   "source": [
    "These values represent that all the flights can be covered with minimum cost of 13 if flights from column 1,2 and 3 of matrix A are selected. "
   ]
  },
  {
   "cell_type": "markdown",
   "id": "7ef0e688",
   "metadata": {},
   "source": [
    "## D_wave solution"
   ]
  },
  {
   "cell_type": "code",
   "execution_count": 17,
   "id": "ede1cf32",
   "metadata": {},
   "outputs": [],
   "source": [
    "import dimod\n",
    "from dimod import BinaryQuadraticModel"
   ]
  },
  {
   "cell_type": "markdown",
   "id": "69916659",
   "metadata": {},
   "source": [
    "Initialize a BQM"
   ]
  },
  {
   "cell_type": "code",
   "execution_count": 18,
   "id": "3fe8c798",
   "metadata": {},
   "outputs": [],
   "source": [
    "model = dimod.BinaryQuadraticModel('BINARY')"
   ]
  },
  {
   "cell_type": "code",
   "execution_count": 19,
   "id": "0f008831",
   "metadata": {},
   "outputs": [],
   "source": [
    "f=[f'f{i}' for i in range(len(c))]"
   ]
  },
  {
   "cell_type": "markdown",
   "id": "974acdad",
   "metadata": {},
   "source": [
    "Add variables and biases (costs) to the BQM"
   ]
  },
  {
   "cell_type": "code",
   "execution_count": 20,
   "id": "be5f4698",
   "metadata": {},
   "outputs": [],
   "source": [
    "for i in range(len(c)):\n",
    "    model.add_variable(f[i], c[i])"
   ]
  },
  {
   "cell_type": "code",
   "execution_count": 21,
   "id": "5e11ad46",
   "metadata": {},
   "outputs": [
    {
     "name": "stdout",
     "output_type": "stream",
     "text": [
      "BinaryQuadraticModel({'f0': 5.0, 'f1': 4.0, 'f2': 4.0, 'f3': 9.0, 'f4': 7.0, 'f5': 8.0, 'f6': 3.0, 'f7': 3.0}, {}, 0.0, 'BINARY')\n"
     ]
    }
   ],
   "source": [
    "print(model)"
   ]
  },
  {
   "cell_type": "markdown",
   "id": "d5d49815",
   "metadata": {},
   "source": [
    "Adding constraints to the model"
   ]
  },
  {
   "cell_type": "code",
   "execution_count": 22,
   "id": "dd4d3438",
   "metadata": {},
   "outputs": [],
   "source": [
    "for i in range(len(a)):\n",
    "    c1 = [(f[j] , a[i][j]) for j in range(len(c))]\n",
    "    model.add_linear_inequality_constraint (c1, lb = 1, ub=len(c), lagrange_multiplier = 11, label = 'c1_' + str(i) )"
   ]
  },
  {
   "cell_type": "markdown",
   "id": "5369888c",
   "metadata": {},
   "source": [
    "Sampling using classical solver"
   ]
  },
  {
   "cell_type": "code",
   "execution_count": 23,
   "id": "e027cbe0",
   "metadata": {},
   "outputs": [],
   "source": [
    "from dimod.reference.samplers import ExactSolver\n",
    "sampler = ExactSolver()"
   ]
  },
  {
   "cell_type": "code",
   "execution_count": 24,
   "id": "a5b5567b",
   "metadata": {
    "scrolled": false
   },
   "outputs": [
    {
     "data": {
      "text/plain": [
       "Sample(sample={'f0': 1, 'f1': 1, 'f2': 1, 'f3': 0, 'f4': 0, 'f5': 0, 'f6': 0, 'f7': 0, 'slack_c1_0_0': 1, 'slack_c1_0_1': 1, 'slack_c1_1_0': 1, 'slack_c1_2_0': 1, 'slack_c1_2_1': 1, 'slack_c1_3_0': 1, 'slack_c1_4_0': 1, 'slack_c1_4_1': 1, 'slack_c1_5_0': 1, 'slack_c1_5_1': 1, 'slack_c1_6_0': 1, 'slack_c1_7_0': 1, 'slack_c1_7_1': 1, 'slack_c1_8_0': 1, 'slack_c1_8_1': 1, 'slack_c1_9_0': 1}, energy=13.0, num_occurrences=1)"
      ]
     },
     "execution_count": 24,
     "metadata": {},
     "output_type": "execute_result"
    }
   ],
   "source": [
    "result = sampler.sample(model)\n",
    "\n",
    "result.first"
   ]
  },
  {
   "cell_type": "markdown",
   "id": "9f02346d",
   "metadata": {},
   "source": [
    "This result is same as provided by CVXPY. Now, let's solve this using DWave Quantum Annealer. API token was already configured."
   ]
  },
  {
   "cell_type": "code",
   "execution_count": 240,
   "id": "97a15195",
   "metadata": {
    "scrolled": true
   },
   "outputs": [],
   "source": [
    "from dwave.system import EmbeddingComposite,DWaveSampler\n",
    "qpu_sampler = EmbeddingComposite(DWaveSampler())"
   ]
  },
  {
   "cell_type": "code",
   "execution_count": 241,
   "id": "1c50aa2e",
   "metadata": {},
   "outputs": [],
   "source": [
    "sampleset = qpu_sampler.sample(model, num_reads=1000)"
   ]
  },
  {
   "cell_type": "code",
   "execution_count": 243,
   "id": "4e36d3fc",
   "metadata": {},
   "outputs": [
    {
     "data": {
      "text/plain": [
       "Sample(sample={'f0': 1, 'f1': 1, 'f2': 1, 'f3': 0, 'f4': 0, 'f5': 0, 'f6': 0, 'f7': 0, 'slack_c1_0_0': 1, 'slack_c1_0_1': 1, 'slack_c1_1_0': 1, 'slack_c1_2_0': 1, 'slack_c1_2_1': 1, 'slack_c1_3_0': 1, 'slack_c1_4_0': 1, 'slack_c1_4_1': 1, 'slack_c1_5_0': 1, 'slack_c1_5_1': 1, 'slack_c1_6_0': 1, 'slack_c1_7_0': 1, 'slack_c1_7_1': 1, 'slack_c1_8_0': 1, 'slack_c1_8_1': 1, 'slack_c1_9_0': 1}, energy=13.0, num_occurrences=1, chain_break_fraction=0.08333333333333333)"
      ]
     },
     "execution_count": 243,
     "metadata": {},
     "output_type": "execute_result"
    }
   ],
   "source": [
    "sampleset.first"
   ]
  },
  {
   "cell_type": "markdown",
   "id": "a92a4793",
   "metadata": {},
   "source": [
    "This results is also same as provided by CVXPY."
   ]
  },
  {
   "cell_type": "markdown",
   "id": "b57ead68",
   "metadata": {},
   "source": [
    " "
   ]
  },
  {
   "cell_type": "markdown",
   "id": "e60f7b30",
   "metadata": {},
   "source": [
    "Solving the problem using CQM and classical solver"
   ]
  },
  {
   "cell_type": "code",
   "execution_count": 25,
   "id": "16b23f56",
   "metadata": {},
   "outputs": [],
   "source": [
    "from dimod import Binary\n",
    "x = [Binary(f'x_{j}') for j in range(len(c))]"
   ]
  },
  {
   "cell_type": "code",
   "execution_count": 26,
   "id": "8ee6cb95",
   "metadata": {},
   "outputs": [],
   "source": [
    "from dimod import ConstrainedQuadraticModel\n",
    "cqm = ConstrainedQuadraticModel()"
   ]
  },
  {
   "cell_type": "code",
   "execution_count": 27,
   "id": "7e9dc9b1",
   "metadata": {},
   "outputs": [],
   "source": [
    "cqm.set_objective(sum(c*x))"
   ]
  },
  {
   "cell_type": "code",
   "execution_count": 28,
   "id": "2bbae0e0",
   "metadata": {},
   "outputs": [
    {
     "data": {
      "text/plain": [
       "{'x_0': 1.0, 'x_1': 0.0, 'x_2': 0.0, 'x_3': 1.0, 'x_4': 0.0, 'x_5': 0.0, 'x_6': 1.0, 'x_7': 0.0}"
      ]
     },
     "execution_count": 28,
     "metadata": {},
     "output_type": "execute_result"
    }
   ],
   "source": [
    "con = a@x\n",
    "con[0].linear"
   ]
  },
  {
   "cell_type": "code",
   "execution_count": 29,
   "id": "7a9fdb5b",
   "metadata": {},
   "outputs": [
    {
     "data": {
      "text/plain": [
       "['c1_0',\n",
       " 'c1_1',\n",
       " 'c1_2',\n",
       " 'c1_3',\n",
       " 'c1_4',\n",
       " 'c1_5',\n",
       " 'c1_6',\n",
       " 'c1_7',\n",
       " 'c1_8',\n",
       " 'c1_9']"
      ]
     },
     "execution_count": 29,
     "metadata": {},
     "output_type": "execute_result"
    }
   ],
   "source": [
    "con_label1 = []\n",
    "for i in range(len(con)):\n",
    "    con_temp = cqm.add_constraint(con[i], '>=', 1, label='c1_'+str(i))\n",
    "    con_label1.append(con_temp)\n",
    "con_label1"
   ]
  },
  {
   "cell_type": "code",
   "execution_count": 30,
   "id": "f917975a",
   "metadata": {},
   "outputs": [],
   "source": [
    "from dimod import ExactCQMSolver\n",
    "sampleset = ExactCQMSolver().sample_cqm(cqm)"
   ]
  },
  {
   "cell_type": "code",
   "execution_count": 32,
   "id": "bd3e0055",
   "metadata": {},
   "outputs": [],
   "source": [
    "def postprocess_cqm_results(cqm, sampleset, return_indices, return_energy):\n",
    "    feasible = sampleset.filter(lambda s: s.is_feasible)\n",
    "    if feasible:\n",
    "        best = feasible.first\n",
    "    else:\n",
    "        assert len(cqm.constraints) == 1\n",
    "        # Sort on violation, then energy\n",
    "        best = sorted(sampleset.data(), key=lambda x: (list(cqm.violations(x.sample).values())[0],\n",
    "                                                     x.energy))[0]\n",
    "\n",
    "    assert list(best.sample.keys()) == sorted(best.sample.keys())\n",
    "    is_selected = np.array([bool(val) for val in best.sample.values()])\n",
    "\n",
    "    if return_indices:\n",
    "        routes = np.array([i for i, val in enumerate(is_selected) if val])\n",
    "    else:\n",
    "        routes = is_selected\n",
    "\n",
    "    if return_energy:\n",
    "        return routes, best.energy\n",
    "    else:\n",
    "        return routes    "
   ]
  },
  {
   "cell_type": "code",
   "execution_count": 33,
   "id": "ab620f62",
   "metadata": {},
   "outputs": [],
   "source": [
    "route, energy = postprocess_cqm_results(cqm, sampleset, return_indices='False', return_energy='False')"
   ]
  },
  {
   "cell_type": "code",
   "execution_count": 34,
   "id": "2e4880eb",
   "metadata": {},
   "outputs": [
    {
     "data": {
      "text/plain": [
       "array([0, 1, 2])"
      ]
     },
     "execution_count": 34,
     "metadata": {},
     "output_type": "execute_result"
    }
   ],
   "source": [
    "route"
   ]
  },
  {
   "cell_type": "code",
   "execution_count": 35,
   "id": "41eb90cd",
   "metadata": {},
   "outputs": [
    {
     "data": {
      "text/plain": [
       "13.0"
      ]
     },
     "execution_count": 35,
     "metadata": {},
     "output_type": "execute_result"
    }
   ],
   "source": [
    "energy"
   ]
  },
  {
   "cell_type": "markdown",
   "id": "58f9dbdb",
   "metadata": {},
   "source": [
    " "
   ]
  },
  {
   "cell_type": "markdown",
   "id": "2e3b3cd0",
   "metadata": {},
   "source": [
    "Solving using QAOA"
   ]
  },
  {
   "cell_type": "code",
   "execution_count": 36,
   "id": "d9f1da47",
   "metadata": {},
   "outputs": [],
   "source": [
    "from qiskit_optimization import QuadraticProgram"
   ]
  },
  {
   "cell_type": "code",
   "execution_count": 37,
   "id": "cae14df4",
   "metadata": {},
   "outputs": [],
   "source": [
    "qaoa_model = QuadraticProgram(\"Flight scheduling\")"
   ]
  },
  {
   "cell_type": "code",
   "execution_count": 38,
   "id": "526f6b19",
   "metadata": {},
   "outputs": [
    {
     "data": {
      "text/plain": [
       "[<Variable: q0 (binary)>,\n",
       " <Variable: q1 (binary)>,\n",
       " <Variable: q2 (binary)>,\n",
       " <Variable: q3 (binary)>,\n",
       " <Variable: q4 (binary)>,\n",
       " <Variable: q5 (binary)>,\n",
       " <Variable: q6 (binary)>,\n",
       " <Variable: q7 (binary)>]"
      ]
     },
     "execution_count": 38,
     "metadata": {},
     "output_type": "execute_result"
    }
   ],
   "source": [
    "qaoa_model.binary_var_list(len(c), name='q')"
   ]
  },
  {
   "cell_type": "code",
   "execution_count": 39,
   "id": "cdfe7183",
   "metadata": {},
   "outputs": [],
   "source": [
    "qaoa_model.minimize(linear=c)"
   ]
  },
  {
   "cell_type": "code",
   "execution_count": 40,
   "id": "a2199c29",
   "metadata": {},
   "outputs": [
    {
     "name": "stdout",
     "output_type": "stream",
     "text": [
      "Problem name: Flight scheduling\n",
      "\n",
      "Minimize\n",
      "  5*q0 + 4*q1 + 4*q2 + 9*q3 + 7*q4 + 8*q5 + 3*q6 + 3*q7\n",
      "\n",
      "Subject to\n",
      "  No constraints\n",
      "\n",
      "  Binary variables (8)\n",
      "    q0 q1 q2 q3 q4 q5 q6 q7\n",
      "\n"
     ]
    }
   ],
   "source": [
    "print(qaoa_model.prettyprint())"
   ]
  },
  {
   "cell_type": "code",
   "execution_count": 41,
   "id": "191098a1",
   "metadata": {},
   "outputs": [],
   "source": [
    "for i in range(len(a)):\n",
    "    qaoa_model.linear_constraint (linear=a[i], sense='>=', rhs=1, name = 'c21_' + str(i) )"
   ]
  },
  {
   "cell_type": "code",
   "execution_count": 42,
   "id": "d19313a7",
   "metadata": {},
   "outputs": [
    {
     "name": "stdout",
     "output_type": "stream",
     "text": [
      "Problem name: Flight scheduling\n",
      "\n",
      "Minimize\n",
      "  5*q0 + 4*q1 + 4*q2 + 9*q3 + 7*q4 + 8*q5 + 3*q6 + 3*q7\n",
      "\n",
      "Subject to\n",
      "  Linear constraints (10)\n",
      "    q0 + q3 + q6 >= 1  'c21_0'\n",
      "    q1 + q4 >= 1  'c21_1'\n",
      "    q2 + q5 + q7 >= 1  'c21_2'\n",
      "    q0 + q3 >= 1  'c21_3'\n",
      "    q2 + q3 + q5 >= 1  'c21_4'\n",
      "    q1 + q3 + q5 >= 1  'c21_5'\n",
      "    q2 + q4 >= 1  'c21_6'\n",
      "    q2 + q4 + q6 >= 1  'c21_7'\n",
      "    q1 + q3 + q5 >= 1  'c21_8'\n",
      "    q0 + q7 >= 1  'c21_9'\n",
      "\n",
      "  Binary variables (8)\n",
      "    q0 q1 q2 q3 q4 q5 q6 q7\n",
      "\n"
     ]
    }
   ],
   "source": [
    "print(qaoa_model.prettyprint())"
   ]
  },
  {
   "cell_type": "code",
   "execution_count": 43,
   "id": "a6981195",
   "metadata": {},
   "outputs": [],
   "source": [
    "from qiskit_optimization.converters import QuadraticProgramToQubo\n",
    "conv = QuadraticProgramToQubo()\n",
    "problem2 = conv.convert(qaoa_model)"
   ]
  },
  {
   "cell_type": "code",
   "execution_count": 47,
   "id": "7fb47d66",
   "metadata": {},
   "outputs": [
    {
     "name": "stdout",
     "output_type": "stream",
     "text": [
      "Problem name: Flight scheduling\n",
      "\n",
      "Minimize\n",
      "  508*c21_0@int_slack@0^2 + 1016*c21_0@int_slack@0*c21_0@int_slack@1\n",
      "  + 508*c21_0@int_slack@1^2 + 508*c21_2@int_slack@0^2\n",
      "  + 1016*c21_2@int_slack@0*c21_2@int_slack@1 + 508*c21_2@int_slack@1^2\n",
      "  + 508*c21_4@int_slack@0^2 + 1016*c21_4@int_slack@0*c21_4@int_slack@1\n",
      "  + 508*c21_4@int_slack@1^2 + 508*c21_5@int_slack@0^2\n",
      "  + 1016*c21_5@int_slack@0*c21_5@int_slack@1 + 508*c21_5@int_slack@1^2\n",
      "  + 508*c21_7@int_slack@0^2 + 1016*c21_7@int_slack@0*c21_7@int_slack@1\n",
      "  + 508*c21_7@int_slack@1^2 + 508*c21_8@int_slack@0^2\n",
      "  + 1016*c21_8@int_slack@0*c21_8@int_slack@1 + 508*c21_8@int_slack@1^2\n",
      "  - 1016*q0*c21_0@int_slack@0 - 1016*q0*c21_0@int_slack@1 + 508*q0^2\n",
      "  + 1060*q0*q3 + 1016*q0*q6 + 44*q0*q7 - 1016*q1*c21_5@int_slack@0\n",
      "  - 1016*q1*c21_5@int_slack@1 - 1016*q1*c21_8@int_slack@0\n",
      "  - 1016*q1*c21_8@int_slack@1 + 1016*q1^2 + 2032*q1*q3 + 44*q1*q4 + 2032*q1*q5\n",
      "  - 1016*q2*c21_2@int_slack@0 - 1016*q2*c21_2@int_slack@1\n",
      "  - 1016*q2*c21_4@int_slack@0 - 1016*q2*c21_4@int_slack@1\n",
      "  - 1016*q2*c21_7@int_slack@0 - 1016*q2*c21_7@int_slack@1 + 1524*q2^2\n",
      "  + 1016*q2*q3 + 1060*q2*q4 + 2032*q2*q5 + 1016*q2*q6 + 1016*q2*q7\n",
      "  - 1016*q3*c21_0@int_slack@0 - 1016*q3*c21_0@int_slack@1\n",
      "  - 1016*q3*c21_4@int_slack@0 - 1016*q3*c21_4@int_slack@1\n",
      "  - 1016*q3*c21_5@int_slack@0 - 1016*q3*c21_5@int_slack@1\n",
      "  - 1016*q3*c21_8@int_slack@0 - 1016*q3*c21_8@int_slack@1 + 2032*q3^2\n",
      "  + 3048*q3*q5 + 1016*q3*q6 - 1016*q4*c21_7@int_slack@0\n",
      "  - 1016*q4*c21_7@int_slack@1 + 508*q4^2 + 1016*q4*q6\n",
      "  - 1016*q5*c21_2@int_slack@0 - 1016*q5*c21_2@int_slack@1\n",
      "  - 1016*q5*c21_4@int_slack@0 - 1016*q5*c21_4@int_slack@1\n",
      "  - 1016*q5*c21_5@int_slack@0 - 1016*q5*c21_5@int_slack@1\n",
      "  - 1016*q5*c21_8@int_slack@0 - 1016*q5*c21_8@int_slack@1 + 2032*q5^2\n",
      "  + 1016*q5*q7 - 1016*q6*c21_0@int_slack@0 - 1016*q6*c21_0@int_slack@1\n",
      "  - 1016*q6*c21_7@int_slack@0 - 1016*q6*c21_7@int_slack@1 + 1016*q6^2\n",
      "  - 1016*q7*c21_2@int_slack@0 - 1016*q7*c21_2@int_slack@1 + 508*q7^2\n",
      "  + 1016*c21_0@int_slack@0 + 1016*c21_0@int_slack@1 + 1016*c21_2@int_slack@0\n",
      "  + 1016*c21_2@int_slack@1 + 1016*c21_4@int_slack@0 + 1016*c21_4@int_slack@1\n",
      "  + 1016*c21_5@int_slack@0 + 1016*c21_5@int_slack@1 + 1016*c21_7@int_slack@0\n",
      "  + 1016*c21_7@int_slack@1 + 1016*c21_8@int_slack@0 + 1016*c21_8@int_slack@1\n",
      "  - 1099*q0 - 2072*q1 - 3088*q2 - 4099*q3 - 1097*q4 - 4056*q5 - 2029*q6\n",
      "  - 1057*q7 + 3224\n",
      "\n",
      "Subject to\n",
      "  No constraints\n",
      "\n",
      "  Binary variables (20)\n",
      "    q0 q1 q2 q3 q4 q5 q6 q7 c21_0@int_slack@0 c21_0@int_slack@1\n",
      "    c21_2@int_slack@0 c21_2@int_slack@1 c21_4@int_slack@0 c21_4@int_slack@1\n",
      "    c21_5@int_slack@0 c21_5@int_slack@1 c21_7@int_slack@0 c21_7@int_slack@1\n",
      "    c21_8@int_slack@0 c21_8@int_slack@1\n",
      "\n"
     ]
    }
   ],
   "source": [
    "print(problem2.prettyprint())"
   ]
  },
  {
   "cell_type": "code",
   "execution_count": 46,
   "id": "3f04a766",
   "metadata": {},
   "outputs": [
    {
     "name": "stdout",
     "output_type": "stream",
     "text": [
      "num qubits: 20, offset: 4637.5\n",
      "\n",
      "operator:\n",
      "273.5 * IIIIIIIIIIIIIIIIIIIZ\n",
      "+ 517.0 * IIIIIIIIIIIIIIIIIIZI\n",
      "+ 771.0 * IIIIIIIIIIIIIIIIIZII\n",
      "+ 1022.5 * IIIIIIIIIIIIIIIIZIII\n",
      "+ 272.5 * IIIIIIIIIIIIIIIZIIII\n",
      "+ 1012.0 * IIIIIIIIIIIIIIZIIIII\n",
      "+ 506.5 * IIIIIIIIIIIIIZIIIIII\n",
      "+ 263.5 * IIIIIIIIIIIIZIIIIIII\n",
      "- 254.0 * IIIIIIIIIIIZIIIIIIII\n",
      "- 254.0 * IIIIIIIIIIZIIIIIIIII\n",
      "- 254.0 * IIIIIIIIIZIIIIIIIIII\n",
      "- 254.0 * IIIIIIIIZIIIIIIIIIII\n",
      "- 254.0 * IIIIIIIZIIIIIIIIIIII\n",
      "- 254.0 * IIIIIIZIIIIIIIIIIIII\n",
      "- 254.0 * IIIIIZIIIIIIIIIIIIII\n",
      "- 254.0 * IIIIZIIIIIIIIIIIIIII\n",
      "- 254.0 * IIIZIIIIIIIIIIIIIIII\n",
      "- 254.0 * IIZIIIIIIIIIIIIIIIII\n",
      "- 254.0 * IZIIIIIIIIIIIIIIIIII\n",
      "- 254.0 * ZIIIIIIIIIIIIIIIIIII\n",
      "+ 265.0 * IIIIIIIIIIIIIIIIZIIZ\n",
      "+ 508.0 * IIIIIIIIIIIIIIIIZIZI\n",
      "+ 254.0 * IIIIIIIIIIIIIIIIZZII\n",
      "+ 11.0 * IIIIIIIIIIIIIIIZIIZI\n",
      "+ 265.0 * IIIIIIIIIIIIIIIZIZII\n",
      "+ 508.0 * IIIIIIIIIIIIIIZIIIZI\n",
      "+ 508.0 * IIIIIIIIIIIIIIZIIZII\n",
      "+ 762.0 * IIIIIIIIIIIIIIZIZIII\n",
      "+ 254.0 * IIIIIIIIIIIIIZIIIIIZ\n",
      "+ 254.0 * IIIIIIIIIIIIIZIIIZII\n",
      "+ 254.0 * IIIIIIIIIIIIIZIIZIII\n",
      "+ 254.0 * IIIIIIIIIIIIIZIZIIII\n",
      "+ 11.0 * IIIIIIIIIIIIZIIIIIIZ\n",
      "+ 254.0 * IIIIIIIIIIIIZIIIIZII\n",
      "+ 254.0 * IIIIIIIIIIIIZIZIIIII\n",
      "- 254.0 * IIIIIIIIIIIZIIIIIIIZ\n",
      "- 254.0 * IIIIIIIIIIIZIIIIZIII\n",
      "- 254.0 * IIIIIIIIIIIZIZIIIIII\n",
      "- 254.0 * IIIIIIIIIIZIIIIIIIIZ\n",
      "- 254.0 * IIIIIIIIIIZIIIIIZIII\n",
      "- 254.0 * IIIIIIIIIIZIIZIIIIII\n",
      "+ 254.0 * IIIIIIIIIIZZIIIIIIII\n",
      "- 254.0 * IIIIIIIIIZIIIIIIIZII\n",
      "- 254.0 * IIIIIIIIIZIIIIZIIIII\n",
      "- 254.0 * IIIIIIIIIZIIZIIIIIII\n",
      "- 254.0 * IIIIIIIIZIIIIIIIIZII\n",
      "- 254.0 * IIIIIIIIZIIIIIZIIIII\n",
      "- 254.0 * IIIIIIIIZIIIZIIIIIII\n",
      "+ 254.0 * IIIIIIIIZZIIIIIIIIII\n",
      "- 254.0 * IIIIIIIZIIIIIIIIIZII\n",
      "- 254.0 * IIIIIIIZIIIIIIIIZIII\n",
      "- 254.0 * IIIIIIIZIIIIIIZIIIII\n",
      "- 254.0 * IIIIIIZIIIIIIIIIIZII\n",
      "- 254.0 * IIIIIIZIIIIIIIIIZIII\n",
      "- 254.0 * IIIIIIZIIIIIIIZIIIII\n",
      "+ 254.0 * IIIIIIZZIIIIIIIIIIII\n",
      "- 254.0 * IIIIIZIIIIIIIIIIIIZI\n",
      "- 254.0 * IIIIIZIIIIIIIIIIZIII\n",
      "- 254.0 * IIIIIZIIIIIIIIZIIIII\n",
      "- 254.0 * IIIIZIIIIIIIIIIIIIZI\n",
      "- 254.0 * IIIIZIIIIIIIIIIIZIII\n",
      "- 254.0 * IIIIZIIIIIIIIIZIIIII\n",
      "+ 254.0 * IIIIZZIIIIIIIIIIIIII\n",
      "- 254.0 * IIIZIIIIIIIIIIIIIZII\n",
      "- 254.0 * IIIZIIIIIIIIIIIZIIII\n",
      "- 254.0 * IIIZIIIIIIIIIZIIIIII\n",
      "- 254.0 * IIZIIIIIIIIIIIIIIZII\n",
      "- 254.0 * IIZIIIIIIIIIIIIZIIII\n",
      "- 254.0 * IIZIIIIIIIIIIZIIIIII\n",
      "+ 254.0 * IIZZIIIIIIIIIIIIIIII\n",
      "- 254.0 * IZIIIIIIIIIIIIIIIIZI\n",
      "- 254.0 * IZIIIIIIIIIIIIIIZIII\n",
      "- 254.0 * IZIIIIIIIIIIIIZIIIII\n",
      "- 254.0 * ZIIIIIIIIIIIIIIIIIZI\n",
      "- 254.0 * ZIIIIIIIIIIIIIIIZIII\n",
      "- 254.0 * ZIIIIIIIIIIIIIZIIIII\n",
      "+ 254.0 * ZZIIIIIIIIIIIIIIIIII\n"
     ]
    }
   ],
   "source": [
    "op, offset = problem2.to_ising()\n",
    "print(f\"num qubits: {op.num_qubits}, offset: {offset}\\n\")\n",
    "print(\"operator:\")\n",
    "print(op)"
   ]
  },
  {
   "cell_type": "code",
   "execution_count": 48,
   "id": "409777e3",
   "metadata": {},
   "outputs": [],
   "source": [
    "from qiskit.utils import algorithm_globals\n",
    "from qiskit.algorithms.minimum_eigensolvers import QAOA, SamplingVQE\n",
    "from qiskit.algorithms.optimizers import COBYLA\n",
    "from qiskit_optimization.algorithms import (\n",
    "    MinimumEigenOptimizer,\n",
    "    RecursiveMinimumEigenOptimizer,\n",
    "    SolutionSample,\n",
    "    OptimizationResultStatus,\n",
    ")"
   ]
  },
  {
   "cell_type": "code",
   "execution_count": 53,
   "id": "23b0af55",
   "metadata": {},
   "outputs": [],
   "source": [
    "from qiskit_ibm_runtime import Sampler, Session, Options\n",
    "from qiskit_ibm_runtime import QiskitRuntimeService\n",
    "# QiskitRuntimeService.save_account(channel=\"ibm_quantum\", token=\"my_token\",  overwrite=True)"
   ]
  },
  {
   "cell_type": "code",
   "execution_count": 54,
   "id": "34c5a34e",
   "metadata": {},
   "outputs": [],
   "source": [
    "service = QiskitRuntimeService(channel=\"ibm_quantum\")\n",
    "backend = service.backend(\"ibmq_qasm_simulator\")"
   ]
  },
  {
   "cell_type": "code",
   "execution_count": 55,
   "id": "c78aecad",
   "metadata": {},
   "outputs": [],
   "source": [
    "algorithm_globals.random_seed = 10598\n",
    "qaoa_mes = QAOA(sampler=Sampler(session=backend), optimizer=COBYLA(), initial_point=[0.0, 0.0])"
   ]
  },
  {
   "cell_type": "code",
   "execution_count": 56,
   "id": "5ccb283f",
   "metadata": {},
   "outputs": [],
   "source": [
    "qaoa = MinimumEigenOptimizer(qaoa_mes)"
   ]
  },
  {
   "cell_type": "code",
   "execution_count": 59,
   "id": "4e6f4b32",
   "metadata": {},
   "outputs": [],
   "source": [
    "qaoa_result = qaoa.solve(qaoa_model)"
   ]
  },
  {
   "cell_type": "code",
   "execution_count": 60,
   "id": "78573c26",
   "metadata": {},
   "outputs": [
    {
     "name": "stdout",
     "output_type": "stream",
     "text": [
      "objective function value: 13.0\n",
      "variable values: q0=1.0, q1=1.0, q2=1.0, q3=0.0, q4=0.0, q5=0.0, q6=0.0, q7=0.0\n",
      "status: SUCCESS\n"
     ]
    }
   ],
   "source": [
    "print(qaoa_result.prettyprint())"
   ]
  }
 ],
 "metadata": {
  "kernelspec": {
   "display_name": "Python 3 (ipykernel)",
   "language": "python",
   "name": "python3"
  },
  "language_info": {
   "codemirror_mode": {
    "name": "ipython",
    "version": 3
   },
   "file_extension": ".py",
   "mimetype": "text/x-python",
   "name": "python",
   "nbconvert_exporter": "python",
   "pygments_lexer": "ipython3",
   "version": "3.9.16"
  }
 },
 "nbformat": 4,
 "nbformat_minor": 5
}
